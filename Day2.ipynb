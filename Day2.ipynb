{
 "cells": [
  {
   "cell_type": "markdown",
   "id": "79f9ebd3",
   "metadata": {},
   "source": [
    "## ML Learning\n"
   ]
  },
  {
   "cell_type": "markdown",
   "id": "2fd4837a",
   "metadata": {},
   "source": [
    "Optional arguments prints"
   ]
  },
  {
   "cell_type": "code",
   "execution_count": 1,
   "id": "3b883dda",
   "metadata": {},
   "outputs": [
    {
     "name": "stdout",
     "output_type": "stream",
     "text": [
      "1and2and3and4and5\n"
     ]
    }
   ],
   "source": [
    "print(1,2,3,4,5, sep=\"and\")"
   ]
  },
  {
   "cell_type": "code",
   "execution_count": 3,
   "id": "c662dd7f",
   "metadata": {},
   "outputs": [
    {
     "name": "stdout",
     "output_type": "stream",
     "text": [
      "1/2/3/4/5\n"
     ]
    }
   ],
   "source": [
    "print(1,2,3,4,5, sep=\"/\")"
   ]
  },
  {
   "cell_type": "markdown",
   "id": "13be9087",
   "metadata": {},
   "source": [
    "print a string by each character with separate line"
   ]
  },
  {
   "cell_type": "code",
   "execution_count": 4,
   "id": "247399d2",
   "metadata": {},
   "outputs": [
    {
     "name": "stdout",
     "output_type": "stream",
     "text": [
      "k\n",
      "o\n",
      "n\n",
      "o\n",
      "k\n"
     ]
    }
   ],
   "source": [
    "string = input(\"Enter the name:\")\n",
    "print(*list(string),sep='\\n')"
   ]
  },
  {
   "cell_type": "markdown",
   "id": "1ed15892",
   "metadata": {},
   "source": [
    "Basic Function used"
   ]
  },
  {
   "cell_type": "markdown",
   "id": "1d23fd97",
   "metadata": {},
   "source": [
    "def means :define a function"
   ]
  },
  {
   "cell_type": "code",
   "execution_count": null,
   "id": "e8f99dc3",
   "metadata": {},
   "outputs": [
    {
     "name": "stdout",
     "output_type": "stream",
     "text": [
      "Hello,konok!\n"
     ]
    }
   ],
   "source": []
  },
  {
   "cell_type": "code",
   "execution_count": 10,
   "id": "9687ecb3",
   "metadata": {},
   "outputs": [
    {
     "name": "stdout",
     "output_type": "stream",
     "text": [
      "Hello, konok!\n"
     ]
    }
   ],
   "source": [
    "def name_input():\n",
    "    name = input(\"Enter your name: \")\n",
    "    print(f\"Hello, {name}!\")\n",
    "\n",
    "name_input()"
   ]
  },
  {
   "cell_type": "code",
   "execution_count": 12,
   "id": "c23c9bf9",
   "metadata": {},
   "outputs": [
    {
     "name": "stdout",
     "output_type": "stream",
     "text": [
      "Hello konok\n"
     ]
    }
   ],
   "source": [
    "def name_input():\n",
    "    name = input(\"Enter your name: \")\n",
    "    print(\"Hello \"+name)\n",
    "\n",
    "name_input()"
   ]
  },
  {
   "cell_type": "markdown",
   "id": "261eaa2c",
   "metadata": {},
   "source": [
    "used nested loop (greet)"
   ]
  },
  {
   "cell_type": "code",
   "execution_count": 13,
   "id": "9de5bd1f",
   "metadata": {},
   "outputs": [
    {
     "name": "stdout",
     "output_type": "stream",
     "text": [
      "Hello, Alice!\n"
     ]
    }
   ],
   "source": [
    "def greet(name):\n",
    "    \"\"\"\n",
    "    Greet the person with a given name.\n",
    "\n",
    "    Parameters:\n",
    "        name (str): The name of the person to greet.\n",
    "\n",
    "    Returns:\n",
    "        str: A greeting message.\n",
    "    \"\"\"\n",
    "    return f\"Hello, {name}!\"\n",
    "\n",
    "# Calling the function\n",
    "print(greet(\"Alice\"))\n"
   ]
  },
  {
   "cell_type": "code",
   "execution_count": 15,
   "id": "d8d7eae5",
   "metadata": {},
   "outputs": [
    {
     "name": "stdout",
     "output_type": "stream",
     "text": [
      "Hello, konok!\n"
     ]
    }
   ],
   "source": [
    "def greet(name):\n",
    "    \"\"\"\n",
    "    Greet the person with a given name.\n",
    "\n",
    "    Parameters:\n",
    "        name (str): The name of the person to greet.\n",
    "\n",
    "    Returns:\n",
    "        str: A greeting message.\n",
    "    \"\"\"\n",
    "    return f\"Hello, {name}!\"\n",
    "\n",
    "# Take user input and call the function\n",
    "user_name = input(\"Enter your name: \")\n",
    "print(greet(user_name))\n",
    "\n"
   ]
  },
  {
   "cell_type": "markdown",
   "id": "2dc2573a",
   "metadata": {},
   "source": [
    "Import Modules"
   ]
  },
  {
   "cell_type": "markdown",
   "id": "739f35dc",
   "metadata": {},
   "source": [
    "1.Built-in modules (already included in Python):\n",
    "\n",
    "math, random, datetime, os, sys, etc.\n",
    "2.Standard library modules (you import them, no installation needed):\n",
    "\n",
    "e.g., json, time, re, statistics\n",
    "\n",
    "3.Third-party modules (require installation with pip):\n",
    "\n",
    "e.g., numpy, pandas, requests\n"
   ]
  },
  {
   "cell_type": "markdown",
   "id": "27610356",
   "metadata": {},
   "source": []
  },
  {
   "cell_type": "code",
   "execution_count": 17,
   "id": "d061c0cb",
   "metadata": {},
   "outputs": [
    {
     "name": "stdout",
     "output_type": "stream",
     "text": [
      "4.0\n"
     ]
    }
   ],
   "source": [
    "import math\n",
    "print(math.sqrt(16))  # Output: 4.0\n"
   ]
  },
  {
   "cell_type": "code",
   "execution_count": 19,
   "id": "d5b7badc",
   "metadata": {},
   "outputs": [
    {
     "name": "stdout",
     "output_type": "stream",
     "text": [
      "Random number: 4\n"
     ]
    }
   ],
   "source": [
    "import random\n",
    "\n",
    "number = random.randint(1, 10)\n",
    "print(f\"Random number: {number}\")\n"
   ]
  },
  {
   "cell_type": "markdown",
   "id": "16fe4769",
   "metadata": {},
   "source": [
    "Conditional Statement"
   ]
  },
  {
   "cell_type": "code",
   "execution_count": 3,
   "id": "46f2ba31",
   "metadata": {},
   "outputs": [
    {
     "name": "stdout",
     "output_type": "stream",
     "text": [
      "X is nither 3 nor 5\n"
     ]
    }
   ],
   "source": [
    "x = int(input(\"Enter a num: \"))\n",
    "\n",
    "if x == 3:\n",
    "    print(\"X is 3\")\n",
    "elif(x == 5):\n",
    "  print(\"X is 5\")\n",
    "else:\n",
    "    print(\"X is nither 3 nor 5\")"
   ]
  },
  {
   "cell_type": "markdown",
   "id": "d55c3218",
   "metadata": {},
   "source": [
    "Guessing Number"
   ]
  },
  {
   "cell_type": "code",
   "execution_count": 6,
   "id": "2d6e700e",
   "metadata": {},
   "outputs": [
    {
     "name": "stdout",
     "output_type": "stream",
     "text": [
      "you got it!\n"
     ]
    }
   ],
   "source": [
    "num = 5\n",
    "guess =int(input(\"Enter number:\"))\n",
    "\n",
    "if guess == num:\n",
    "     print(\"you got it!\")\n",
    "else:\n",
    "    print(\"you missed it\")"
   ]
  },
  {
   "cell_type": "markdown",
   "id": "70ee2e01",
   "metadata": {},
   "source": [
    "if/elif/else statement"
   ]
  },
  {
   "cell_type": "code",
   "execution_count": null,
   "id": "8a6da71b",
   "metadata": {},
   "outputs": [
    {
     "name": "stdout",
     "output_type": "stream",
     "text": [
      "Your total bill is $45.00\n"
     ]
    }
   ],
   "source": [
    "entry = input(\"Do you have any discount? (yes/no):\")\n",
    "##enter = enter.lower()\n",
    "if entry == \"yes\" or \"YES\" or \"yEs\":\n",
    "    print(\"Your total bill is $45.00\")\n",
    "elif entry == \"no\" or \"NO\" or \"No\":\n",
    "    print(\"Your total bill is $50.00\")\n",
    "else:\n",
    "    print(\"Invalid entry\")"
   ]
  },
  {
   "cell_type": "markdown",
   "id": "acd30fdc",
   "metadata": {},
   "source": [
    "For loop"
   ]
  },
  {
   "cell_type": "code",
   "execution_count": 8,
   "id": "0d19e4a0",
   "metadata": {},
   "outputs": [
    {
     "name": "stdout",
     "output_type": "stream",
     "text": [
      "2 3 4 5 6 7 8 9 10 11 12 13 14 15 16 17 18 19 20 21 22 23 24 25 26 27 28 29 30 31 32 33 34 35 36 37 38 39 40 41 42 43 44 45 46 47 48 49 "
     ]
    }
   ],
   "source": [
    "for i in range(2,50):\n",
    "    print(i, end=\" \")"
   ]
  },
  {
   "cell_type": "code",
   "execution_count": 9,
   "id": "142b446d",
   "metadata": {},
   "outputs": [
    {
     "name": "stdout",
     "output_type": "stream",
     "text": [
      "2 6 10 14 18 22 26 30 34 38 42 46 "
     ]
    }
   ],
   "source": [
    "for i in range(2,50,4):\n",
    "    print(i, end=\" \")"
   ]
  },
  {
   "cell_type": "code",
   "execution_count": 10,
   "id": "835c37d2",
   "metadata": {},
   "outputs": [
    {
     "name": "stdout",
     "output_type": "stream",
     "text": [
      "100 95 90 85 80 75 70 65 60 55 50 45 40 35 30 25 20 15 10 5 "
     ]
    }
   ],
   "source": [
    "for i in range(100,1,-5):\n",
    "    print(i, end=\" \")"
   ]
  },
  {
   "cell_type": "code",
   "execution_count": 16,
   "id": "a8ccd3ce",
   "metadata": {},
   "outputs": [
    {
     "name": "stdout",
     "output_type": "stream",
     "text": [
      "100 90 80 70 60 50 40 30 20 10 "
     ]
    }
   ],
   "source": [
    "for i in range(100,1,-5):\n",
    "   if(i%2==0):\n",
    "    print(i, end=\" \")\n"
   ]
  },
  {
   "cell_type": "code",
   "execution_count": 25,
   "id": "e5b98e96",
   "metadata": {},
   "outputs": [
    {
     "name": "stdout",
     "output_type": "stream",
     "text": [
      "'konok': 2 vowels\n"
     ]
    }
   ],
   "source": [
    "name = input(\"Enter a name: \")\n",
    "vowels = ['a', 'e', 'i', 'o', 'u']\n",
    "count = 0\n",
    "\n",
    "for char in name.lower():\n",
    "    if char in vowels:\n",
    "        count += 1\n",
    "\n",
    "print(f\"'{name}': {count} vowels\")\n"
   ]
  },
  {
   "cell_type": "code",
   "execution_count": null,
   "id": "737e1bb1",
   "metadata": {},
   "outputs": [
    {
     "ename": "IndentationError",
     "evalue": "unindent does not match any outer indentation level (<tokenize>, line 4)",
     "output_type": "error",
     "traceback": [
      "  \u001b[36mFile \u001b[39m\u001b[32m<tokenize>:4\u001b[39m\n\u001b[31m    \u001b[39m\u001b[31mprint('i')\u001b[39m\n    ^\n\u001b[31mIndentationError\u001b[39m\u001b[31m:\u001b[39m unindent does not match any outer indentation level\n"
     ]
    }
   ],
   "source": [
    "for i in range(50):\n",
    "   if i==7 or i==10\n",
    "      continue:\n",
    "  print('i')"
   ]
  },
  {
   "cell_type": "markdown",
   "id": "c6e5b604",
   "metadata": {},
   "source": [
    "While Lop"
   ]
  },
  {
   "cell_type": "code",
   "execution_count": 30,
   "id": "86e7d51e",
   "metadata": {},
   "outputs": [
    {
     "name": "stdout",
     "output_type": "stream",
     "text": [
      "1\n",
      "2\n",
      "3\n",
      "4\n"
     ]
    },
    {
     "name": "stderr",
     "output_type": "stream",
     "text": [
      "<>:2: SyntaxWarning: \"is not\" with a literal. Did you mean \"!=\"?\n",
      "<>:2: SyntaxWarning: \"is not\" with a literal. Did you mean \"!=\"?\n",
      "<>:2: SyntaxWarning: \"is not\" with a literal. Did you mean \"!=\"?\n",
      "<>:2: SyntaxWarning: \"is not\" with a literal. Did you mean \"!=\"?\n",
      "C:\\Users\\Student\\AppData\\Local\\Temp\\ipykernel_9204\\1358139193.py:2: SyntaxWarning: \"is not\" with a literal. Did you mean \"!=\"?\n",
      "  while i is not 5:\n",
      "C:\\Users\\Student\\AppData\\Local\\Temp\\ipykernel_9204\\1358139193.py:2: SyntaxWarning: \"is not\" with a literal. Did you mean \"!=\"?\n",
      "  while i is not 5:\n"
     ]
    }
   ],
   "source": [
    "i = 1\n",
    "while i is not 5:\n",
    "    print(i)\n",
    "    i+=1"
   ]
  },
  {
   "cell_type": "markdown",
   "id": "56df16f0",
   "metadata": {},
   "source": [
    "number gussing game"
   ]
  },
  {
   "cell_type": "code",
   "execution_count": null,
   "id": "6721082d",
   "metadata": {},
   "outputs": [
    {
     "name": "stdout",
     "output_type": "stream",
     "text": [
      "its low\n",
      "its low\n",
      "too high\n",
      "its low\n",
      "its low\n",
      "its low\n",
      "its low\n",
      "too high\n",
      "its low\n",
      "too high\n",
      "too high\n",
      "too high\n",
      "too high\n",
      "its low\n",
      "its low\n",
      "its low\n",
      "too high\n",
      "too high\n",
      "too high\n",
      "too high\n",
      "too high\n",
      "too high\n",
      "its low\n",
      "its low\n",
      "its low\n",
      "successful26\n"
     ]
    }
   ],
   "source": [
    "from random import randint\n",
    "guess =int(input(\"Enter number:\"))\n",
    "num= randint(1,100)\n",
    "i=1\n",
    "while (guess!= num):\n",
    "    if(guess<num):\n",
    "     print(\"its low\")\n",
    "    elif(guess>num):\n",
    "     print(\"too high\")\n",
    "    \n",
    "    guess =int(input(\"Enter number:\"))\n",
    "    i+=1\n",
    "print(f\"successful{i}times\")\n",
    "\n"
   ]
  },
  {
   "cell_type": "code",
   "execution_count": null,
   "id": "7f12ad7f",
   "metadata": {},
   "outputs": [
    {
     "name": "stdout",
     "output_type": "stream",
     "text": [
      "high\n"
     ]
    }
   ],
   "source": [
    "from random import randint\n",
    "num = randint(1,100)\n",
    "guess =int(input(\"Enter number:\"))\n",
    "if(guess == num):\n",
    "     print(\"you got it!\")\n",
    "elif(guess<num):\n",
    "    print(\"low it\")\n",
    "else:\n",
    "    print(\"high\")"
   ]
  },
  {
   "cell_type": "markdown",
   "id": "c6b57705",
   "metadata": {},
   "source": []
  }
 ],
 "metadata": {
  "kernelspec": {
   "display_name": ".venv",
   "language": "python",
   "name": "python3"
  },
  "language_info": {
   "codemirror_mode": {
    "name": "ipython",
    "version": 3
   },
   "file_extension": ".py",
   "mimetype": "text/x-python",
   "name": "python",
   "nbconvert_exporter": "python",
   "pygments_lexer": "ipython3",
   "version": "3.11.9"
  }
 },
 "nbformat": 4,
 "nbformat_minor": 5
}
