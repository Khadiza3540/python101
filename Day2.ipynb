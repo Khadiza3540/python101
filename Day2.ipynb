{
 "cells": [
  {
   "cell_type": "markdown",
   "id": "79f9ebd3",
   "metadata": {},
   "source": [
    "## ML Learning\n"
   ]
  },
  {
   "cell_type": "markdown",
   "id": "2fd4837a",
   "metadata": {},
   "source": [
    "Optional arguments prints"
   ]
  },
  {
   "cell_type": "code",
   "execution_count": 1,
   "id": "3b883dda",
   "metadata": {},
   "outputs": [
    {
     "name": "stdout",
     "output_type": "stream",
     "text": [
      "1and2and3and4and5\n"
     ]
    }
   ],
   "source": [
    "print(1,2,3,4,5, sep=\"and\")"
   ]
  },
  {
   "cell_type": "code",
   "execution_count": 3,
   "id": "c662dd7f",
   "metadata": {},
   "outputs": [
    {
     "name": "stdout",
     "output_type": "stream",
     "text": [
      "1/2/3/4/5\n"
     ]
    }
   ],
   "source": [
    "print(1,2,3,4,5, sep=\"/\")"
   ]
  },
  {
   "cell_type": "markdown",
   "id": "13be9087",
   "metadata": {},
   "source": [
    "print a string by each character with separate line"
   ]
  },
  {
   "cell_type": "code",
   "execution_count": 4,
   "id": "247399d2",
   "metadata": {},
   "outputs": [
    {
     "name": "stdout",
     "output_type": "stream",
     "text": [
      "k\n",
      "o\n",
      "n\n",
      "o\n",
      "k\n"
     ]
    }
   ],
   "source": [
    "string = input(\"Enter the name:\")\n",
    "print(*list(string),sep='\\n')"
   ]
  },
  {
   "cell_type": "markdown",
   "id": "1ed15892",
   "metadata": {},
   "source": [
    "Basic Function used"
   ]
  },
  {
   "cell_type": "markdown",
   "id": "1d23fd97",
   "metadata": {},
   "source": [
    "def means :define a function"
   ]
  },
  {
   "cell_type": "code",
   "execution_count": null,
   "id": "e8f99dc3",
   "metadata": {},
   "outputs": [
    {
     "name": "stdout",
     "output_type": "stream",
     "text": [
      "Hello,konok!\n"
     ]
    }
   ],
   "source": []
  },
  {
   "cell_type": "code",
   "execution_count": 10,
   "id": "9687ecb3",
   "metadata": {},
   "outputs": [
    {
     "name": "stdout",
     "output_type": "stream",
     "text": [
      "Hello, konok!\n"
     ]
    }
   ],
   "source": [
    "def name_input():\n",
    "    name = input(\"Enter your name: \")\n",
    "    print(f\"Hello, {name}!\")\n",
    "\n",
    "name_input()"
   ]
  },
  {
   "cell_type": "code",
   "execution_count": 12,
   "id": "c23c9bf9",
   "metadata": {},
   "outputs": [
    {
     "name": "stdout",
     "output_type": "stream",
     "text": [
      "Hello konok\n"
     ]
    }
   ],
   "source": [
    "def name_input():\n",
    "    name = input(\"Enter your name: \")\n",
    "    print(\"Hello \"+name)\n",
    "\n",
    "name_input()"
   ]
  },
  {
   "cell_type": "markdown",
   "id": "261eaa2c",
   "metadata": {},
   "source": [
    "used nested loop (greet)"
   ]
  },
  {
   "cell_type": "code",
   "execution_count": 13,
   "id": "9de5bd1f",
   "metadata": {},
   "outputs": [
    {
     "name": "stdout",
     "output_type": "stream",
     "text": [
      "Hello, Alice!\n"
     ]
    }
   ],
   "source": [
    "def greet(name):\n",
    "    \"\"\"\n",
    "    Greet the person with a given name.\n",
    "\n",
    "    Parameters:\n",
    "        name (str): The name of the person to greet.\n",
    "\n",
    "    Returns:\n",
    "        str: A greeting message.\n",
    "    \"\"\"\n",
    "    return f\"Hello, {name}!\"\n",
    "\n",
    "# Calling the function\n",
    "print(greet(\"Alice\"))\n"
   ]
  },
  {
   "cell_type": "code",
   "execution_count": 15,
   "id": "d8d7eae5",
   "metadata": {},
   "outputs": [
    {
     "name": "stdout",
     "output_type": "stream",
     "text": [
      "Hello, konok!\n"
     ]
    }
   ],
   "source": [
    "def greet(name):\n",
    "    \"\"\"\n",
    "    Greet the person with a given name.\n",
    "\n",
    "    Parameters:\n",
    "        name (str): The name of the person to greet.\n",
    "\n",
    "    Returns:\n",
    "        str: A greeting message.\n",
    "    \"\"\"\n",
    "    return f\"Hello, {name}!\"\n",
    "\n",
    "# Take user input and call the function\n",
    "user_name = input(\"Enter your name: \")\n",
    "print(greet(user_name))\n",
    "\n"
   ]
  },
  {
   "cell_type": "markdown",
   "id": "2dc2573a",
   "metadata": {},
   "source": [
    "Import Modules"
   ]
  },
  {
   "cell_type": "markdown",
   "id": "739f35dc",
   "metadata": {},
   "source": [
    "1.Built-in modules (already included in Python):\n",
    "\n",
    "math, random, datetime, os, sys, etc.\n",
    "2.Standard library modules (you import them, no installation needed):\n",
    "\n",
    "e.g., json, time, re, statistics\n",
    "\n",
    "3.Third-party modules (require installation with pip):\n",
    "\n",
    "e.g., numpy, pandas, requests\n"
   ]
  },
  {
   "cell_type": "markdown",
   "id": "27610356",
   "metadata": {},
   "source": []
  },
  {
   "cell_type": "code",
   "execution_count": 17,
   "id": "d061c0cb",
   "metadata": {},
   "outputs": [
    {
     "name": "stdout",
     "output_type": "stream",
     "text": [
      "4.0\n"
     ]
    }
   ],
   "source": [
    "import math\n",
    "print(math.sqrt(16))  # Output: 4.0\n"
   ]
  },
  {
   "cell_type": "code",
   "execution_count": 19,
   "id": "d5b7badc",
   "metadata": {},
   "outputs": [
    {
     "name": "stdout",
     "output_type": "stream",
     "text": [
      "Random number: 4\n"
     ]
    }
   ],
   "source": [
    "import random\n",
    "\n",
    "number = random.randint(1, 10)\n",
    "print(f\"Random number: {number}\")\n"
   ]
  }
 ],
 "metadata": {
  "kernelspec": {
   "display_name": ".venv",
   "language": "python",
   "name": "python3"
  },
  "language_info": {
   "codemirror_mode": {
    "name": "ipython",
    "version": 3
   },
   "file_extension": ".py",
   "mimetype": "text/x-python",
   "name": "python",
   "nbconvert_exporter": "python",
   "pygments_lexer": "ipython3",
   "version": "3.11.9"
  }
 },
 "nbformat": 4,
 "nbformat_minor": 5
}
